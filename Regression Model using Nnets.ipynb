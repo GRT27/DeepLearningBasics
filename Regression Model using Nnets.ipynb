{
 "cells": [
  {
   "cell_type": "code",
   "execution_count": 39,
   "metadata": {},
   "outputs": [],
   "source": [
    "from keras.datasets import boston_housing\n",
    "(train_data, train_targets), (test_data, test_targets) = boston_housing.load_data()"
   ]
  },
  {
   "cell_type": "code",
   "execution_count": 40,
   "metadata": {},
   "outputs": [
    {
     "data": {
      "text/plain": [
       "(404, 13)"
      ]
     },
     "execution_count": 40,
     "metadata": {},
     "output_type": "execute_result"
    }
   ],
   "source": [
    "train_data.shape"
   ]
  },
  {
   "cell_type": "code",
   "execution_count": 41,
   "metadata": {},
   "outputs": [
    {
     "data": {
      "text/plain": [
       "(102, 13)"
      ]
     },
     "execution_count": 41,
     "metadata": {},
     "output_type": "execute_result"
    }
   ],
   "source": [
    "test_data.shape"
   ]
  },
  {
   "cell_type": "code",
   "execution_count": 42,
   "metadata": {},
   "outputs": [
    {
     "data": {
      "text/plain": [
       "array([15.2, 42.3, 50. , 21.1, 17.7, 18.5, 11.3, 15.6, 15.6, 14.4])"
      ]
     },
     "execution_count": 42,
     "metadata": {},
     "output_type": "execute_result"
    }
   ],
   "source": [
    "train_targets[:10]"
   ]
  },
  {
   "cell_type": "markdown",
   "metadata": {},
   "source": [
    "It would be problematic to feed into a neural network values that all take wildly different ranges. The network might be able to automatically adapt to such heterogeneousdata, but it would definitely make learning more difficult. A widespread best practice to deal with such data is to do feature-wise normalization: for each feature in the input data (a column in the input data matrix), you subtract the mean of the feature and divide by the standard deviation, so that the feature is centered around 0 and has a unit standard deviation. This is easily done in Numpy.\n",
    "-----"
   ]
  },
  {
   "cell_type": "code",
   "execution_count": 43,
   "metadata": {},
   "outputs": [],
   "source": [
    "mean = train_data.mean(axis=0)\n",
    "train_data -= mean\n",
    "std = train_data.std(axis=0)\n",
    "train_data /= std\n",
    "test_data -= mean\n",
    "test_data /= std"
   ]
  },
  {
   "cell_type": "markdown",
   "metadata": {},
   "source": [
    "Because so few samples are available, you’ll use a very small network with two hidden layers, each with 64 units. In general, the less training data you have, the worse overfitting will be, and using a small network is one way to mitigate overfitting.\n",
    "----"
   ]
  },
  {
   "cell_type": "code",
   "execution_count": 44,
   "metadata": {},
   "outputs": [],
   "source": [
    "from keras import models\n",
    "from keras import layers\n",
    "\n",
    "def build_model() :\n",
    "    model = models.Sequential()\n",
    "    model.add(layers.Dense(64, activation='relu',\n",
    "input_shape=(train_data.shape[1],)))\n",
    "    model.add(layers.Dense(64, activation='relu'))\n",
    "    model.add(layers.Dense(1))\n",
    "    model.compile(optimizer='rmsprop', loss='mse', metrics=['mae'])\n",
    "    return model"
   ]
  },
  {
   "cell_type": "markdown",
   "metadata": {},
   "source": [
    "K-fold cross-validation.It consists of splitting the available data into K partitions (typically K = 4 or 5), instantiating K identical models, and training each one on K – 1 partitions while evaluating on the remaining partition. The validation score for the model used is then the average of the K validation scores obtained.\n",
    "----"
   ]
  },
  {
   "cell_type": "code",
   "execution_count": 47,
   "metadata": {},
   "outputs": [],
   "source": [
    "import numpy as np\n",
    "k=4\n",
    "num_val_samples = len(train_data) // k\n",
    "num_epochs = 100\n",
    "all_scores = []"
   ]
  },
  {
   "cell_type": "code",
   "execution_count": 48,
   "metadata": {},
   "outputs": [
    {
     "name": "stdout",
     "output_type": "stream",
     "text": [
      "processing fold # 0\n",
      "processing fold # 1\n",
      "processing fold # 2\n",
      "processing fold # 3\n"
     ]
    }
   ],
   "source": [
    "\n",
    "\n",
    "\n",
    "for i in range(k):\n",
    "  \n",
    "    print('processing fold #', i)\n",
    "    val_data = train_data[i * num_val_samples: (i + 1) * num_val_samples]\n",
    "    \n",
    "    val_targets = train_targets[i * num_val_samples: (i + 1) * num_val_samples]\n",
    "    \n",
    "    partial_train_data = np.concatenate(\n",
    "        [train_data[:i * num_val_samples],\n",
    "         train_data[(i+1)*num_val_samples:]],axis=0)\n",
    "    \n",
    "    partial_train_targets = np.concatenate(\n",
    "        [train_targets[:i * num_val_samples],\n",
    "        train_targets[(i+1)*num_val_samples:]],\n",
    "         axis=0)\n",
    "    \n",
    "    \n",
    "    model = build_model()\n",
    "    model.fit(partial_train_data, partial_train_targets,\n",
    "           epochs=num_epochs, batch_size=1, verbose=0)\n",
    "    val_mse, val_mae = model.evaluate(val_data, val_targets, verbose=0)\n",
    "    all_scores.append(val_mae)\n",
    "    "
   ]
  },
  {
   "cell_type": "code",
   "execution_count": 49,
   "metadata": {},
   "outputs": [
    {
     "data": {
      "text/plain": [
       "[2.012641668319702, 2.355055332183838, 2.8937370777130127, 2.4875094890594482]"
      ]
     },
     "execution_count": 49,
     "metadata": {},
     "output_type": "execute_result"
    }
   ],
   "source": [
    "all_scores"
   ]
  },
  {
   "cell_type": "code",
   "execution_count": 50,
   "metadata": {},
   "outputs": [
    {
     "data": {
      "text/plain": [
       "2.4372358918190002"
      ]
     },
     "execution_count": 50,
     "metadata": {},
     "output_type": "execute_result"
    }
   ],
   "source": [
    "np.mean(all_scores)"
   ]
  },
  {
   "cell_type": "markdown",
   "metadata": {},
   "source": [
    "The different runs do indeed show rather different validation scores, from 2.6 to 3.2.The average (3.0) is a much more reliable metric than any single score—that’s the entire point of K-fold cross-validation. In this case, you’re off by $3,000 on average,\n",
    "-------------------"
   ]
  },
  {
   "cell_type": "code",
   "execution_count": 56,
   "metadata": {},
   "outputs": [
    {
     "name": "stdout",
     "output_type": "stream",
     "text": [
      "Processing fold # 0\n",
      "Processing fold # 1\n",
      "Processing fold # 2\n",
      "Processing fold # 3\n"
     ]
    }
   ],
   "source": [
    "# Now we are gonna train the model on longer epochs\n",
    "\n",
    "num_epochs = 500\n",
    "all_mae_histories = []\n",
    "\n",
    "for i in range(k):\n",
    "    print('Processing fold #' , i)\n",
    "    val_data = train_data[i*num_val_samples:(i+1)* num_val_samples]\n",
    "    val_targets = train_targets[i*num_val_samples:(i+ 1)* num_val_samples]\n",
    "    \n",
    "    partial_train_data = np.concatenate(\n",
    "        [train_data[:i*num_val_samples],\n",
    "        train_data[(i+1)*num_val_samples:]],\n",
    "        axis=0)\n",
    "    \n",
    "    partial_train_targets = np.concatenate(\n",
    "        [train_targets[:i * num_val_samples],\n",
    "        train_targets[(i + 1) * num_val_samples:]],\n",
    "        axis=0)\n",
    "    model = build_model()\n",
    "    history = model.fit(partial_train_data, partial_train_targets,\n",
    "    validation_data=(val_data, val_targets),\n",
    "               epochs=num_epochs, batch_size=1, verbose=0)\n",
    "\n",
    "    mae_history = history.history['val_mae']\n",
    "    all_mae_histories.append(mae_history)"
   ]
  },
  {
   "cell_type": "code",
   "execution_count": 59,
   "metadata": {},
   "outputs": [
    {
     "data": {
      "text/plain": [
       "[4.58412629365921,\n",
       " 3.333370268344879,\n",
       " 3.033999025821686,\n",
       " 2.9338438510894775,\n",
       " 2.744952082633972,\n",
       " 2.7259268164634705,\n",
       " 2.6697500348091125,\n",
       " 2.6693493723869324,\n",
       " 2.590334117412567,\n",
       " 2.5675927996635437,\n",
       " 2.579347848892212,\n",
       " 2.4988481998443604,\n",
       " 2.4745779931545258,\n",
       " 2.5066959261894226,\n",
       " 2.468634307384491,\n",
       " 2.4672188758850098,\n",
       " 2.365894466638565,\n",
       " 2.423032760620117,\n",
       " 2.5631077885627747,\n",
       " 2.590386211872101,\n",
       " 2.3821505308151245,\n",
       " 2.342450976371765,\n",
       " 2.4899052381515503,\n",
       " 2.39059180021286,\n",
       " 2.388766348361969,\n",
       " 2.4105381071567535,\n",
       " 2.3909210562705994,\n",
       " 2.2821898460388184,\n",
       " 2.439015567302704,\n",
       " 2.4415783286094666,\n",
       " 2.472299635410309,\n",
       " 2.3911792933940887,\n",
       " 2.27318274974823,\n",
       " 2.394458055496216,\n",
       " 2.3665472865104675,\n",
       " 2.5047637820243835,\n",
       " 2.459730327129364,\n",
       " 2.4393399953842163,\n",
       " 2.242366224527359,\n",
       " 2.249276727437973,\n",
       " 2.3668033480644226,\n",
       " 2.3236858248710632,\n",
       " 2.394417464733124,\n",
       " 2.3150908946990967,\n",
       " 2.3806315064430237,\n",
       " 2.234824001789093,\n",
       " 2.4173194766044617,\n",
       " 2.263991743326187,\n",
       " 2.3924486935138702,\n",
       " 2.40571391582489,\n",
       " 2.2815658152103424,\n",
       " 2.3032151758670807,\n",
       " 2.3731263875961304,\n",
       " 2.3051132559776306,\n",
       " 2.3250018060207367,\n",
       " 2.291071891784668,\n",
       " 2.3071765303611755,\n",
       " 2.38850200176239,\n",
       " 2.1979412734508514,\n",
       " 2.349558472633362,\n",
       " 2.5010927319526672,\n",
       " 2.206582009792328,\n",
       " 2.39177006483078,\n",
       " 2.350143790245056,\n",
       " 2.3535762429237366,\n",
       " 2.3415359258651733,\n",
       " 2.5072073340415955,\n",
       " 2.4120208621025085,\n",
       " 2.439211905002594,\n",
       " 2.33391672372818,\n",
       " 2.430851697921753,\n",
       " 2.453113377094269,\n",
       " 2.4167184829711914,\n",
       " 2.4646427035331726,\n",
       " 2.2255937457084656,\n",
       " 2.415114164352417,\n",
       " 2.386677086353302,\n",
       " 2.3013090193271637,\n",
       " 2.364363193511963,\n",
       " 2.2924200892448425,\n",
       " 2.4157745242118835,\n",
       " 2.4387285113334656,\n",
       " 2.428032338619232,\n",
       " 2.2993727326393127,\n",
       " 2.3035563230514526,\n",
       " 2.4388586282730103,\n",
       " 2.3236464262008667,\n",
       " 2.4759576320648193,\n",
       " 2.4212055802345276,\n",
       " 2.275446891784668,\n",
       " 2.3418124318122864,\n",
       " 2.5143256783485413,\n",
       " 2.474688231945038,\n",
       " 2.4282968640327454,\n",
       " 2.4499905109405518,\n",
       " 2.4182243943214417,\n",
       " 2.465547800064087,\n",
       " 2.3100122809410095,\n",
       " 2.536109745502472,\n",
       " 2.4796513319015503,\n",
       " 2.4171758890151978,\n",
       " 2.41953307390213,\n",
       " 2.4021254181861877,\n",
       " 2.348395049571991,\n",
       " 2.415859282016754,\n",
       " 2.5859466195106506,\n",
       " 2.4522655606269836,\n",
       " 2.3984625339508057,\n",
       " 2.4210858941078186,\n",
       " 2.4126691818237305,\n",
       " 2.496050536632538,\n",
       " 2.453369975090027,\n",
       " 2.4454793334007263,\n",
       " 2.539297938346863,\n",
       " 2.4479593634605408,\n",
       " 2.379506468772888,\n",
       " 2.4716014862060547,\n",
       " 2.310311257839203,\n",
       " 2.472812235355377,\n",
       " 2.6005919575691223,\n",
       " 2.4087014198303223,\n",
       " 2.594478666782379,\n",
       " 2.366234302520752,\n",
       " 2.6241748332977295,\n",
       " 2.6266669034957886,\n",
       " 2.4302651286125183,\n",
       " 2.4012981057167053,\n",
       " 2.5378571152687073,\n",
       " 2.556570529937744,\n",
       " 2.526565670967102,\n",
       " 2.4467748403549194,\n",
       " 2.4008479714393616,\n",
       " 2.525586187839508,\n",
       " 2.4859806895256042,\n",
       " 2.6399672627449036,\n",
       " 2.5279071927070618,\n",
       " 2.5794615149497986,\n",
       " 2.5503516793251038,\n",
       " 2.4722514748573303,\n",
       " 2.4703373312950134,\n",
       " 2.636777937412262,\n",
       " 2.5112282633781433,\n",
       " 2.5875476002693176,\n",
       " 2.596901834011078,\n",
       " 2.7675352692604065,\n",
       " 2.5638622641563416,\n",
       " 2.5041922330856323,\n",
       " 2.4902126789093018,\n",
       " 2.6063557267189026,\n",
       " 2.4277554750442505,\n",
       " 2.474002182483673,\n",
       " 2.489897847175598,\n",
       " 2.666977107524872,\n",
       " 2.49020117521286,\n",
       " 2.526269495487213,\n",
       " 2.5672971606254578,\n",
       " 2.6292165517807007,\n",
       " 2.5555129051208496,\n",
       " 2.6327614784240723,\n",
       " 2.7252621054649353,\n",
       " 2.5113289952278137,\n",
       " 2.648129642009735,\n",
       " 2.619423985481262,\n",
       " 2.5961522459983826,\n",
       " 2.6668325662612915,\n",
       " 2.5408241748809814,\n",
       " 2.571007192134857,\n",
       " 2.6896987557411194,\n",
       " 2.6130504608154297,\n",
       " 2.5406299233436584,\n",
       " 2.602908134460449,\n",
       " 2.616887152194977,\n",
       " 2.5565786361694336,\n",
       " 2.6147322058677673,\n",
       " 2.427788734436035,\n",
       " 2.5466983318328857,\n",
       " 2.6519861817359924,\n",
       " 2.6776466965675354,\n",
       " 2.552362561225891,\n",
       " 2.5169798731803894,\n",
       " 2.7194005846977234,\n",
       " 2.537462532520294,\n",
       " 2.541732966899872,\n",
       " 2.564588248729706,\n",
       " 2.551950991153717,\n",
       " 2.586454749107361,\n",
       " 2.70250004529953,\n",
       " 2.7219791412353516,\n",
       " 2.739448666572571,\n",
       " 2.620457172393799,\n",
       " 2.6802915930747986,\n",
       " 2.698008418083191,\n",
       " 2.5537962913513184,\n",
       " 2.5228039026260376,\n",
       " 2.606857478618622,\n",
       " 2.7841209173202515,\n",
       " 2.703904926776886,\n",
       " 2.662780284881592,\n",
       " 2.6925110816955566,\n",
       " 2.6215357184410095,\n",
       " 2.634049117565155,\n",
       " 2.7710978388786316,\n",
       " 2.62380588054657,\n",
       " 2.5328316688537598,\n",
       " 2.6534098386764526,\n",
       " 2.589067757129669,\n",
       " 2.729338228702545,\n",
       " 2.5970022082328796,\n",
       " 2.817712724208832,\n",
       " 2.629179537296295,\n",
       " 2.667032301425934,\n",
       " 2.5493476390838623,\n",
       " 2.6240967512130737,\n",
       " 2.5924386382102966,\n",
       " 2.640751361846924,\n",
       " 2.5729933977127075,\n",
       " 2.66586697101593,\n",
       " 2.676579177379608,\n",
       " 2.509302794933319,\n",
       " 2.6528431177139282,\n",
       " 2.7539138793945312,\n",
       " 2.680405378341675,\n",
       " 2.796223521232605,\n",
       " 2.6968311071395874,\n",
       " 2.613240122795105,\n",
       " 2.6272696256637573,\n",
       " 2.609676241874695,\n",
       " 2.5959582328796387,\n",
       " 2.5942033529281616,\n",
       " 2.5697395503520966,\n",
       " 2.630638837814331,\n",
       " 2.594027817249298,\n",
       " 2.6775991320610046,\n",
       " 2.718388557434082,\n",
       " 2.628353774547577,\n",
       " 2.6010149717330933,\n",
       " 2.698282301425934,\n",
       " 2.6875466108322144,\n",
       " 2.651464104652405,\n",
       " 2.6452231407165527,\n",
       " 2.5828860998153687,\n",
       " 2.656226336956024,\n",
       " 2.6578288078308105,\n",
       " 2.7090408205986023,\n",
       " 2.641487181186676,\n",
       " 2.685267925262451,\n",
       " 2.7126208543777466,\n",
       " 2.591744691133499,\n",
       " 2.759955585002899,\n",
       " 2.787776291370392,\n",
       " 2.7219696044921875,\n",
       " 2.923435091972351,\n",
       " 2.7177423238754272,\n",
       " 2.7709489464759827,\n",
       " 2.724565863609314,\n",
       " 2.6955806612968445,\n",
       " 2.65118345618248,\n",
       " 2.6336740851402283,\n",
       " 2.7392354011535645,\n",
       " 2.714868187904358,\n",
       " 2.6428509950637817,\n",
       " 2.77367502450943,\n",
       " 2.580446779727936,\n",
       " 2.6840412616729736,\n",
       " 2.820042610168457,\n",
       " 2.62895005941391,\n",
       " 2.675563395023346,\n",
       " 2.6982327103614807,\n",
       " 2.7962047457695007,\n",
       " 2.7183200120925903,\n",
       " 2.6332597732543945,\n",
       " 2.7194055914878845,\n",
       " 2.7121159434318542,\n",
       " 2.662992835044861,\n",
       " 2.706020474433899,\n",
       " 2.615215539932251,\n",
       " 2.492739200592041,\n",
       " 2.6347233653068542,\n",
       " 2.6394200921058655,\n",
       " 2.8126503229141235,\n",
       " 2.6551279425621033,\n",
       " 2.8197290897369385,\n",
       " 2.7708444595336914,\n",
       " 2.7302920818328857,\n",
       " 2.6672638058662415,\n",
       " 2.707571506500244,\n",
       " 2.62821626663208,\n",
       " 2.704270899295807,\n",
       " 2.770527184009552,\n",
       " 2.6475677490234375,\n",
       " 2.6450677514076233,\n",
       " 2.601691484451294,\n",
       " 2.5151248574256897,\n",
       " 2.5440624952316284,\n",
       " 2.7537291049957275,\n",
       " 2.552286297082901,\n",
       " 2.676595389842987,\n",
       " 2.7775516510009766,\n",
       " 2.820154130458832,\n",
       " 2.666913151741028,\n",
       " 2.7034386098384857,\n",
       " 2.633263051509857,\n",
       " 2.7667118906974792,\n",
       " 2.6544589400291443,\n",
       " 2.717725694179535,\n",
       " 2.713768720626831,\n",
       " 2.8011600971221924,\n",
       " 2.6720070242881775,\n",
       " 2.638369083404541,\n",
       " 2.691081941127777,\n",
       " 2.895667612552643,\n",
       " 2.672742545604706,\n",
       " 2.737138032913208,\n",
       " 2.710587799549103,\n",
       " 2.6459307074546814,\n",
       " 2.622755765914917,\n",
       " 2.7054349184036255,\n",
       " 2.7016959190368652,\n",
       " 2.568314701318741,\n",
       " 2.6864635944366455,\n",
       " 2.7562584280967712,\n",
       " 2.6869678497314453,\n",
       " 2.84010511636734,\n",
       " 2.7312968969345093,\n",
       " 2.6315290331840515,\n",
       " 2.676767110824585,\n",
       " 2.7035824358463287,\n",
       " 2.6847097873687744,\n",
       " 2.6337559819221497,\n",
       " 2.6885772943496704,\n",
       " 2.80605411529541,\n",
       " 2.8369957208633423,\n",
       " 2.683345139026642,\n",
       " 2.7585774064064026,\n",
       " 2.636043071746826,\n",
       " 2.6496260464191437,\n",
       " 2.7357189655303955,\n",
       " 2.6343953013420105,\n",
       " 2.675875276327133,\n",
       " 2.705209791660309,\n",
       " 2.6590456366539,\n",
       " 2.731735587120056,\n",
       " 2.6726686358451843,\n",
       " 2.6166797280311584,\n",
       " 2.7240659594535828,\n",
       " 2.630673885345459,\n",
       " 2.8182761669158936,\n",
       " 2.744117319583893,\n",
       " 2.743616461753845,\n",
       " 2.7220558524131775,\n",
       " 2.651672661304474,\n",
       " 2.6260809302330017,\n",
       " 2.7750423550605774,\n",
       " 2.685372292995453,\n",
       " 2.688970386981964,\n",
       " 2.704619586467743,\n",
       " 2.7057413458824158,\n",
       " 2.62456613779068,\n",
       " 2.6511939764022827,\n",
       " 2.768907368183136,\n",
       " 2.8593456149101257,\n",
       " 2.754287838935852,\n",
       " 2.7559236884117126,\n",
       " 2.714675188064575,\n",
       " 2.6254234313964844,\n",
       " 2.707527756690979,\n",
       " 2.7639195919036865,\n",
       " 2.6724607348442078,\n",
       " 2.8165106773376465,\n",
       " 2.7175533175468445,\n",
       " 2.7548723816871643,\n",
       " 2.684002161026001,\n",
       " 2.6689907908439636,\n",
       " 2.6823434233665466,\n",
       " 2.699503093957901,\n",
       " 2.672652840614319,\n",
       " 2.7111679315567017,\n",
       " 2.7092763781547546,\n",
       " 2.7063194513320923,\n",
       " 2.708503544330597,\n",
       " 2.68724524974823,\n",
       " 2.6280463337898254,\n",
       " 2.7131274342536926,\n",
       " 2.7058838605880737,\n",
       " 2.7999879121780396,\n",
       " 2.744607985019684,\n",
       " 2.6963144540786743,\n",
       " 2.6815197467803955,\n",
       " 2.737276077270508,\n",
       " 2.7306111454963684,\n",
       " 2.7639561891555786,\n",
       " 2.83541202545166,\n",
       " 2.745039224624634,\n",
       " 2.660743296146393,\n",
       " 2.697617471218109,\n",
       " 2.7021120190620422,\n",
       " 2.695014774799347,\n",
       " 2.7208678126335144,\n",
       " 2.8157771825790405,\n",
       " 2.7251786589622498,\n",
       " 2.722163498401642,\n",
       " 2.720705509185791,\n",
       " 2.6977058053016663,\n",
       " 2.760404586791992,\n",
       " 2.706531524658203,\n",
       " 2.72041118144989,\n",
       " 2.6891831159591675,\n",
       " 2.69990473985672,\n",
       " 2.7780357599258423,\n",
       " 2.706339120864868,\n",
       " 2.7037368416786194,\n",
       " 2.706214964389801,\n",
       " 2.6514825224876404,\n",
       " 2.758207619190216,\n",
       " 2.6831398010253906,\n",
       " 2.7733362317085266,\n",
       " 2.8040466904640198,\n",
       " 2.727350413799286,\n",
       " 2.726366639137268,\n",
       " 2.6884377896785736,\n",
       " 2.771281063556671,\n",
       " 2.7150800824165344,\n",
       " 2.72117680311203,\n",
       " 2.660225212574005,\n",
       " 2.6859167218208313,\n",
       " 2.6999704241752625,\n",
       " 2.6956908106803894,\n",
       " 2.7480708360671997,\n",
       " 2.73598712682724,\n",
       " 2.792800545692444,\n",
       " 2.7901450395584106,\n",
       " 2.7470496892929077,\n",
       " 2.6965553164482117,\n",
       " 2.724128484725952,\n",
       " 2.684575378894806,\n",
       " 2.6348934173583984,\n",
       " 2.7941718697547913,\n",
       " 2.712170124053955,\n",
       " 2.802803695201874,\n",
       " 2.6593045592308044,\n",
       " 2.72392874956131,\n",
       " 2.6738813519477844,\n",
       " 2.6596584916114807,\n",
       " 2.7508484721183777,\n",
       " 2.6984156370162964,\n",
       " 2.757868528366089,\n",
       " 2.725809931755066,\n",
       " 2.8002026677131653,\n",
       " 2.7085959911346436,\n",
       " 2.7352818846702576,\n",
       " 2.80129212141037,\n",
       " 2.714575946331024,\n",
       " 2.7566940784454346,\n",
       " 2.762546956539154,\n",
       " 2.73396372795105,\n",
       " 2.789660692214966,\n",
       " 2.7420358657836914,\n",
       " 2.804241716861725,\n",
       " 2.7353400588035583,\n",
       " 2.7375229001045227,\n",
       " 2.8225667476654053,\n",
       " 2.7650612592697144,\n",
       " 2.724485158920288,\n",
       " 2.749824583530426,\n",
       " 2.727410614490509,\n",
       " 2.6553489565849304,\n",
       " 2.7285661697387695,\n",
       " 2.6575035452842712,\n",
       " 2.71149680018425,\n",
       " 2.7366915345191956,\n",
       " 2.658393383026123,\n",
       " 2.685416281223297,\n",
       " 2.762943685054779,\n",
       " 2.6905381083488464,\n",
       " 2.7154951691627502,\n",
       " 2.662850856781006,\n",
       " 2.705584764480591,\n",
       " 2.7578911185264587,\n",
       " 2.6026018857955933,\n",
       " 2.7362831234931946,\n",
       " 2.7669937014579773,\n",
       " 2.719046413898468,\n",
       " 2.7470626831054688,\n",
       " 2.714444637298584,\n",
       " 2.722674787044525,\n",
       " 2.82875257730484,\n",
       " 2.6229105591773987,\n",
       " 2.740929663181305,\n",
       " 2.7147423028945923,\n",
       " 2.71602201461792,\n",
       " 2.7099987268447876,\n",
       " 2.7109591960906982,\n",
       " 2.7822095155715942,\n",
       " 2.7937467098236084,\n",
       " 2.6704872250556946,\n",
       " 2.8322070240974426,\n",
       " 2.6847240328788757,\n",
       " 2.7824056148529053,\n",
       " 2.7672759890556335,\n",
       " 2.7481748461723328]"
      ]
     },
     "execution_count": 59,
     "metadata": {},
     "output_type": "execute_result"
    }
   ],
   "source": [
    "average_mae_history = [\n",
    "    np.mean([x[i] for x in all_mae_histories]) for i in range(num_epochs)\n",
    "]\n",
    "average_mae_history"
   ]
  },
  {
   "cell_type": "code",
   "execution_count": 60,
   "metadata": {},
   "outputs": [
    {
     "data": {
      "image/png": "[encoded data removed]",
      "text/plain": [
       "<Figure size 432x288 with 1 Axes>"
      ]
     },
     "metadata": {
      "needs_background": "light"
     },
     "output_type": "display_data"
    }
   ],
   "source": [
    "import matplotlib.pyplot as plt\n",
    "\n",
    "plt.plot(range(1,len(average_mae_history)+1),average_mae_history)\n",
    "plt.xlabel('Epochs')\n",
    "plt.ylabel('Validation MAE')\n",
    "plt.show()"
   ]
  },
  {
   "cell_type": "code",
   "execution_count": 62,
   "metadata": {},
   "outputs": [
    {
     "data": {
      "image/png": "[encoded data removed]",
      "text/plain": [
       "<Figure size 432x288 with 1 Axes>"
      ]
     },
     "metadata": {
      "needs_background": "light"
     },
     "output_type": "display_data"
    }
   ],
   "source": [
    "# Plotting validation scores, excluding the first 10 data points\n",
    "\n",
    "def smooth_curve(points , factor=0.9):\n",
    "    smoothed_points = []\n",
    "    for point in points:\n",
    "        if smoothed_points:\n",
    "            previous = smoothed_points[-1]\n",
    "            smoothed_points.append(previous * factor + point * (1 - factor))\n",
    "        else:\n",
    "            smoothed_points.append(point)\n",
    "    return smoothed_points\n",
    "\n",
    "smooth_mae_history = smooth_curve(average_mae_history[10:])\n",
    "plt.plot(range(1, len(smooth_mae_history) + 1), smooth_mae_history)\n",
    "plt.xlabel('Epochs')\n",
    "plt.ylabel('Validation MAE')\n",
    "plt.show()"
   ]
  },
  {
   "cell_type": "markdown",
   "metadata": {},
   "source": [
    "According to this plot, validation MAE stops improving significantly after 80 epochs.Past that point, you start overfitting.Once you’re finished tuning other parameters of the model (in addition to the number of epochs, you could also adjust the size of the hidden layers), you can train a final production model on all of the training data, with the best parameters, and then look at its performance on the test data.\n",
    "------"
   ]
  },
  {
   "cell_type": "code",
   "execution_count": 64,
   "metadata": {},
   "outputs": [
    {
     "name": "stdout",
     "output_type": "stream",
     "text": [
      "4/4 [==============================] - 0s 997us/step - loss: 18.8108 - mae: 2.7019\n"
     ]
    },
    {
     "data": {
      "text/plain": [
       "2.701868772506714"
      ]
     },
     "execution_count": 64,
     "metadata": {},
     "output_type": "execute_result"
    }
   ],
   "source": [
    "model = build_model()\n",
    "model.fit(train_data , train_targets,\n",
    "         epochs=80, batch_size = 16 ,  verbose=0)\n",
    "test_mse_score , test_mae_score = model.evaluate(test_data , test_targets)\n",
    "test_mae_score"
   ]
  },
  {
   "cell_type": "code",
   "execution_count": null,
   "metadata": {},
   "outputs": [],
   "source": []
  }
 ],
 "metadata": {
  "kernelspec": {
   "display_name": "Python 3",
   "language": "python",
   "name": "python3"
  },
  "language_info": {
   "codemirror_mode": {
    "name": "ipython",
    "version": 3
   },
   "file_extension": ".py",
   "mimetype": "text/x-python",
   "name": "python",
   "nbconvert_exporter": "python",
   "pygments_lexer": "ipython3",
   "version": "3.8.5"
  }
 },
 "nbformat": 4,
 "nbformat_minor": 4
}
